{
 "cells": [
  {
   "cell_type": "code",
   "execution_count": 11,
   "metadata": {},
   "outputs": [
    {
     "name": "stdout",
     "output_type": "stream",
     "text": [
      "123\n",
      "124\n",
      "125\n",
      "134\n",
      "135\n",
      "145\n",
      "234\n",
      "235\n",
      "245\n",
      "345\n"
     ]
    }
   ],
   "source": [
    "a = []\n",
    "#n = int(input())\n",
    "#k = int(input())\n",
    "n, k = map(int , input().split())\n",
    "for i in range (k) :\n",
    "    a.append(i + 1)\n",
    "fl = k - 1\n",
    "while(fl > -1) :\n",
    "    for p in a :\n",
    "        print(p, end = '')\n",
    "    print('')\n",
    "    fl = k - 1\n",
    "    while fl > -1 and a[fl] == n - k + fl + 1: fl -= 1\n",
    "    if fl > -1 :\n",
    "        a[fl] = a[fl] + 1\n",
    "        for u in range(fl + 1, k) : a[u] = a[u - 1] + 1\n",
    "\n",
    "\n"
   ]
  },
  {
   "cell_type": "code",
   "execution_count": 18,
   "metadata": {},
   "outputs": [
    {
     "name": "stdout",
     "output_type": "stream",
     "text": [
      "0000\n",
      "0001\n",
      "0010\n",
      "0011\n",
      "0100\n",
      "0101\n",
      "0110\n",
      "0111\n",
      "1000\n",
      "1001\n",
      "1010\n",
      "1011\n",
      "1100\n",
      "1101\n",
      "1110\n",
      "1111\n"
     ]
    }
   ],
   "source": [
    "b = []\n",
    "n1 = int(input())\n",
    "for p in range(n1) :\n",
    "    b.append(0)\n",
    "fl1 = n1 - 1\n",
    "while fl1 > -1 :\n",
    "    for p in b :\n",
    "        print(p, end = '')\n",
    "    fl1 = n1 - 1\n",
    "    print('')\n",
    "    while fl1 > -1 and b[fl1] == 1 : fl1 -= 1\n",
    "    if fl1 > -1 :\n",
    "        b[fl1] = 1\n",
    "        for h in range(fl1 + 1, n1):\n",
    "            b[h] = 0"
   ]
  },
  {
   "cell_type": "markdown",
   "metadata": {},
   "source": []
  },
  {
   "cell_type": "code",
   "execution_count": null,
   "metadata": {},
   "outputs": [],
   "source": []
  }
 ],
 "metadata": {
  "kernelspec": {
   "display_name": "Python 3",
   "language": "python",
   "name": "python3"
  },
  "language_info": {
   "codemirror_mode": {
    "name": "ipython",
    "version": 3
   },
   "file_extension": ".py",
   "mimetype": "text/x-python",
   "name": "python",
   "nbconvert_exporter": "python",
   "pygments_lexer": "ipython3",
   "version": "3.9.5"
  },
  "orig_nbformat": 4
 },
 "nbformat": 4,
 "nbformat_minor": 2
}
